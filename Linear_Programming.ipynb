{
 "cells": [
  {
   "cell_type": "markdown",
   "metadata": {},
   "source": [
    "# Linear Programming "
   ]
  },
  {
   "cell_type": "markdown",
   "metadata": {},
   "source": [
    "### Introduction :\n",
    "\n",
    "Linear programming (LP, also called linear optimization) is a method to achieve the best outcome (such as maximum profit or lowest cost) in a mathematical model whose requirements are represented by linear relationships. Linear programming is a special case of mathematical programming (mathematical optimization).\n",
    "More formally, linear programming is a technique for the optimization of a linear objective function, subject to linear equality and linear inequality constraints. Its feasible region is a convex polytope, which is a set defined as the intersection of finitely many half spaces, each of which is defined by a linear inequality. Its objective function is a real-valued affine (linear) function defined on this polyhedron. A linear programming algorithm finds a point in the polyhedron where this function has the smallest (or largest) value if such a point exists.\n"
   ]
  },
  {
   "cell_type": "markdown",
   "metadata": {},
   "source": [
    "### Meaning of Linear Programming :\n",
    "\n",
    "LP is a mathematical technique for the analysis of optimum decisions subject to certain constraints in the form of linear inequalities. Mathematically speaking, it applies to those problems which require the solution of maximization or minimization problems subject to a system of linear inequalities stated in terms of certain variables.\n",
    "If x and y, the two variables, are the function of z, the value of г is maximized when any movement from that point results in a decreased value of z. The value of z is minimized when even a small movement results in an increased value of z.\n",
    "The term “linear” indicates that the function to be maximized is of degree one and the corresponding constraints are represented by a system of linear inequalities. The word “programming” means that the planning of activities in a manner that leads to some optimum results with limited resources. A programme is optimal if it maximizes or minimizes output, profits or cost of a firm.\n",
    "Linear programming may thus be defined as a method to decide the optimum combination of factors (inputs) to produce a given output or the optimum combination of products (outputs) to be produced by given plant and equipment (inputs). It is also used by a firm to decide between varieties of techniques to produce a commodity.\n"
   ]
  },
  {
   "attachments": {},
   "cell_type": "markdown",
   "metadata": {},
   "source": [
    "### Standard form :"
   ]
  },
  {
   "cell_type": "code",
   "execution_count": 12,
   "metadata": {},
   "outputs": [
    {
     "data": {
      "text/html": [
       "<img src=\"https://reader.paperc.com/book_static/51/2013/06/21/9781118211328/OEBPS/images/tab1-1.jpg\"/>"
      ],
      "text/plain": [
       "<IPython.core.display.Image object>"
      ]
     },
     "execution_count": 12,
     "metadata": {},
     "output_type": "execute_result"
    }
   ],
   "source": [
    "from IPython.display import Image\n",
    "Image(url='https://reader.paperc.com/book_static/51/2013/06/21/9781118211328/OEBPS/images/tab1-1.jpg')"
   ]
  },
  {
   "cell_type": "code",
   "execution_count": 13,
   "metadata": {},
   "outputs": [
    {
     "data": {
      "text/html": [
       "<img src=\"https://makemorepayless.weebly.com/uploads/1/6/9/4/16944732/9373629.png?246\"/>"
      ],
      "text/plain": [
       "<IPython.core.display.Image object>"
      ]
     },
     "execution_count": 13,
     "metadata": {},
     "output_type": "execute_result"
    }
   ],
   "source": [
    "Image(url='https://makemorepayless.weebly.com/uploads/1/6/9/4/16944732/9373629.png?246')\n"
   ]
  },
  {
   "cell_type": "code",
   "execution_count": 16,
   "metadata": {},
   "outputs": [
    {
     "data": {
      "text/html": [
       "<img src=\"http://dreuarchive.cra.org/2004/Hajdik/images/linearform.gif\"/>"
      ],
      "text/plain": [
       "<IPython.core.display.Image object>"
      ]
     },
     "execution_count": 16,
     "metadata": {},
     "output_type": "execute_result"
    }
   ],
   "source": [
    "Image(url='http://dreuarchive.cra.org/2004/Hajdik/images/linearform.gif')\n",
    "\n"
   ]
  },
  {
   "cell_type": "markdown",
   "metadata": {},
   "source": [
    "### Applications :\n",
    "\n",
    "Linear programming can be applied to various fields of study. It is widely used in mathematics, and to a lesser extent in business, economics, and for some engineering problems. Industries that use linear programming models include transportation, energy, telecommunications, and manufacturing. It has proven useful in modeling diverse types of problems in planning, routing, scheduling, assignment, and design.\n",
    "\n"
   ]
  },
  {
   "cell_type": "markdown",
   "metadata": {},
   "source": [
    "### Uses : \n",
    "\n",
    "Linear programming is a widely used field of optimization for several reasons. Many practical problems in operations research can be expressed as linear programming problems. Certain special cases of linear programming, such as network flow problems and multicommodity flow problems are considered important enough to have generated much research on specialized algorithms for their solution. A number of algorithms for other types of optimization problems work by solving LP problems as sub-problems. Historically, ideas from linear programming have inspired many of the central concepts of optimization theory, such as duality, decomposition, and the importance of convexity and its generalizations. Likewise, linear programming was heavily used in the early formation of microeconomics and is currently utilized in company management, such as planning, production, transportation, technology and other issues. Although the modern management issues are ever-changing, most companies would like to maximize profits or minimize costs with limited resources. Therefore, many issues can be characterized as linear programming problems.\n",
    "\n"
   ]
  },
  {
   "cell_type": "markdown",
   "metadata": {},
   "source": [
    "### Example problem :\n",
    "\n",
    "Q. A car company produces 2 models, model A and model B. Long-term projections indicate an expected demand of at least 100 model A cars and 80 model B cars each day. Because of limitations on production capacity, no more than 200 model A cars and 170 model B cars can be made daily. To satisfy a shipping contract, a total of at least 200 cars much be shipped each day. If each model A car sold results in a 2000 loss, but each model B car produces a 5000 profit, how many of each type should be made daily to maximize net profits?\n",
    "    \n"
   ]
  },
  {
   "cell_type": "markdown",
   "metadata": {},
   "source": [
    "#### Solution :\n",
    "\n",
    "Let the number of cars per day of model A be x0 and that of B be x1. \n",
    "Therefore writing equations,\n",
    "\n",
    "Bounds :\n",
    "\n",
    "from expected demand,\n",
    "x0>=100  , x1>=80\n",
    "\n",
    "from production capacity limitation,\n",
    "x0<=200  , x1<=170\n",
    "\n",
    "Constratint : from shipping contract\n",
    "\n",
    "x0+x1>=200\n",
    "\n",
    "let z be the net profit,\n",
    "z=5000*x1-2000*x0\n",
    "\n",
    "Objective : to maximize z\n"
   ]
  },
  {
   "cell_type": "markdown",
   "metadata": {},
   "source": [
    "#### Code :"
   ]
  },
  {
   "cell_type": "code",
   "execution_count": 13,
   "metadata": {},
   "outputs": [
    {
     "name": "stdout",
     "output_type": "stream",
     "text": [
      "Optimization terminated successfully.\n",
      "         Current function value: -650000.000000\n",
      "         Iterations: 5\n",
      "     fun: -650000.0\n",
      " message: 'Optimization terminated successfully.'\n",
      "     nit: 5\n",
      "   slack: array([70.,  0.,  0., 90.,  0.])\n",
      "  status: 0\n",
      " success: True\n",
      "       x: array([100., 170.])\n"
     ]
    }
   ],
   "source": [
    "# definiation of equations & constraints in matrix form\n",
    "\n",
    "c = [2000, -5000]\n",
    "a = [-1,-1]\n",
    "b = [-200]\n",
    "x0_bounds = (100,200)\n",
    "x1_bounds = (80,170)\n",
    "\n",
    "# importing package\n",
    "\n",
    "from scipy.optimize import linprog\n",
    "\n",
    "# using linprog function to get solution \n",
    "\n",
    "res = linprog(c, A_ub=a, b_ub=b, bounds=(x0_bounds, x1_bounds),options={\"disp\": True})\n",
    "\n",
    "# display\n",
    "\n",
    "print(res)"
   ]
  },
  {
   "cell_type": "code",
   "execution_count": 14,
   "metadata": {},
   "outputs": [
    {
     "name": "stdout",
     "output_type": "stream",
     "text": [
      "[100. 170.]\n"
     ]
    }
   ],
   "source": [
    "# display of values of variables at optimum point\n",
    "\n",
    "print(res.x)"
   ]
  },
  {
   "cell_type": "markdown",
   "metadata": {},
   "source": [
    "Hence, maximum profit can be $650000 when x0=100 & x1=170\n",
    "ie. 100 cars of model A and 170 cars of model B should be made daily to maximize profits."
   ]
  },
  {
   "cell_type": "markdown",
   "metadata": {},
   "source": [
    "The \"linprog\" function from the \"scipy.optimize\" package has been used to solve the linear programming function.\n",
    "Since it does only minimization by default, so we have written the target function by multiplying a negative sign with it in order ti maximize the original funaction.\n",
    "To maximize : Z'=Z*sign   , where sign=-1 \n",
    "\n",
    "thus eqn, Z'= 2000*x0-5000*x1\n",
    "\n",
    "Also, the constraint must be written in upper bound inequality form, ie. -x0-x1<=-200\n"
   ]
  },
  {
   "cell_type": "markdown",
   "metadata": {},
   "source": [
    "### Limitations of Linear Programming :\n",
    "\n",
    "Linear programming has turned out to be a highly useful tool of analysis for the business executive. It is being increasingly made use of in theory of the firm, in managerial economics, in inter-regional trade, in general equilibrium analysis, in welfare economics and in development planning.\n",
    "\n",
    "But it has the following limitations:\n",
    "\n",
    "1. It is not easy to define a specific objective function.\n",
    "2. Even if a specific objective function is laid down, it may not be so easy to find out various technological, financial and other constraints which may be operative in pursuing the given objective.\n",
    "3. Given a specific objective and a set of constraints, it is possible that the constraints may not be directly expressible as linear inequalities.\n",
    "4. Even if the above problems are surmounted, a major problem is one of estimating relevant values of the various constant coefficients that enter into a linear programming mode, i.e., prices, etc.\n",
    "5. This technique is based on the assumption of linear relations between inputs and outputs. This means that inputs and outputs can be added, multiplied and divided. But the relations between inputs and outputs are not always linear. In real life, most of the relations are non-linear.\n",
    "6. This technique assumes perfect competition in product and factor markets. But perfect competition is not a reality.\n",
    "7. The LP technique is based on the assumption of constant returns. In reality, there are either diminishing or increasing returns which a firm experiences in production.\n",
    "8. It is a highly mathematical and complicated technique. The solution of a problem with linear programming requires the maximization or minimization of a clearly specified variable. The solution of a linear programming problem is also arrived at with such complicated method as the ‘simplex method’ which involves a large number of mathematical calculations.\n",
    "9. Mostly, linear programming models present trial-and-error solutions and it is difficult to find out really optimal solutions to the various economic problems.\n"
   ]
  }
 ],
 "metadata": {
  "kernelspec": {
   "display_name": "Python 3",
   "language": "python",
   "name": "python3"
  },
  "language_info": {
   "codemirror_mode": {
    "name": "ipython",
    "version": 3
   },
   "file_extension": ".py",
   "mimetype": "text/x-python",
   "name": "python",
   "nbconvert_exporter": "python",
   "pygments_lexer": "ipython3",
   "version": "3.6.4"
  },
  "widgets": {
   "application/vnd.jupyter.widget-state+json": {
    "state": {},
    "version_major": 2,
    "version_minor": 0
   }
  }
 },
 "nbformat": 4,
 "nbformat_minor": 2
}
